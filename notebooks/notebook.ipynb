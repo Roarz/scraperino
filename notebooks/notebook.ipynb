{
 "metadata": {
  "language_info": {
   "codemirror_mode": {
    "name": "ipython",
    "version": 3
   },
   "file_extension": ".py",
   "mimetype": "text/x-python",
   "name": "python",
   "nbconvert_exporter": "python",
   "pygments_lexer": "ipython3",
   "version": "3.8.6-final"
  },
  "orig_nbformat": 2,
  "kernelspec": {
   "name": "Python 3.8.6 64-bit",
   "display_name": "Python 3.8.6 64-bit",
   "metadata": {
    "interpreter": {
     "hash": "9db4318bdd739b4eab6485e9915f1c851c6bc983df385efd1f78cad68d53ba90"
    }
   }
  }
 },
 "nbformat": 4,
 "nbformat_minor": 2,
 "cells": [
  {
   "cell_type": "code",
   "execution_count": 6,
   "metadata": {},
   "outputs": [
    {
     "output_type": "stream",
     "name": "stdout",
     "text": [
      "deaths count:  18\nplayer:  Cleitinho Tacaesside 60 Oct 31 2020, 04:52:06 CET 17 deaths\n\nSlain at Level 60 by Arkhamzs, Old Warmaster, Under Command, Mad Dabbin, Neo druidax and Doctor Shipman.\nSlain at Level 60 by Wadee barrett, Antoni Unsterblich, Yeiison Unsterblich, Gabriel Zyrri, Gerhyoga and Darhs Royals.\nSlain at Level 60 by Wadee barrett, Loryloc, Vodkys, Darhs Royals and Alpraaam.\nKilled at Level 60 by Death Sportt and Ajjaax.\nSlain at Level 60 by Detento Godlike, Firemane Paralyzer, Gabriel Zyrri, Green Wona Beach and Bookoo Frags.\nSlain at Level 60 by Canyon River, Syrox Ed, Son Goku, Leon Guin, Diogo Mito, Brenows and Ontarget Lalo.\nSlain at Level 60 by Lmuert, Gianna Grettel, Jodevack, Mounsta and Green Wona Beach.\nSlain at Level 60 by Leady Katy, Juniirsiittho, Aaron Oz, Kevinyzer Omnipotens, Assassin of Fula, Ronal el toro, Ra Issa and Glowny Rozkminiajacy.\nSlain at Level 60 by Baelowyr Heaker, Kull Hero, Thon Dariel, Er Primo, Cytoteec and Cronos Star.\nKilled at Level 60 by Muerth and Kiritos Sao.Assisted by Golis Dreiryn.\nKilled at Level 60 by Orielys, Juniirsiittho, Danniceta and Zomboy Inc.\nKilled at Level 60 by Cicloncito, Scuffler, Mikeilita and Ra Issa.\nSlain at Level 60 by Fero Zennus, Daelix Baen, Neeylomi, Azxkhar Te Pekea, Junisky and Efejoota.\nSlain at Level 60 by Molletes con queso, Alth Rustfal, Juniirsiittho, Excail Oz, Furciia, Legolasone and Antokia.\nKilled at Level 60 by Muerth, Mii guell and Sorc Bombardero.\nKilled at Level 60 by Rata Coming Home, Comtesse sanglante, Narutoss and Paladin Cathiel.\nKilled at Level 60 by Falius Dreaver, Mia Paralyse, Diego Nolove and Druid Kgalero.\n\n"
     ]
    }
   ],
   "source": [
    "import sys\n",
    "sys.path.append('../src')\n",
    "\n",
    "from charInfo import get_player_info_table, parse_char_stats, display_player_info\n",
    "\n",
    "playerName = \"Cleitinho Tacaesside\"\n",
    "playerInfo = get_player_info_table(playerName)\n",
    "player = parse_char_stats(playerInfo)\n",
    "display_player_info(player)\n"
   ]
  },
  {
   "cell_type": "code",
   "execution_count": null,
   "metadata": {},
   "outputs": [],
   "source": []
  }
 ]
}