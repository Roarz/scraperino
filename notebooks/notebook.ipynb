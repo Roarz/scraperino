{
 "metadata": {
  "language_info": {
   "codemirror_mode": {
    "name": "ipython",
    "version": 3
   },
   "file_extension": ".py",
   "mimetype": "text/x-python",
   "name": "python",
   "nbconvert_exporter": "python",
   "pygments_lexer": "ipython3",
   "version": "3.8.6-final"
  },
  "orig_nbformat": 2,
  "kernelspec": {
   "name": "Python 3.8.6 64-bit",
   "display_name": "Python 3.8.6 64-bit",
   "metadata": {
    "interpreter": {
     "hash": "9db4318bdd739b4eab6485e9915f1c851c6bc983df385efd1f78cad68d53ba90"
    }
   }
  }
 },
 "nbformat": 4,
 "nbformat_minor": 2,
 "cells": [
  {
   "cell_type": "code",
   "execution_count": 1,
   "metadata": {},
   "outputs": [
    {
     "output_type": "stream",
     "name": "stdout",
     "text": [
      "deaths count:  10\nplayer:  Brizca 12 Oct 30 2020, 03:21:49 CET 9 deaths\n\nKilled at Level 12 by Bryus Siran.\nKilled at Level 12 by Arca Dran.\nDied at Level 12 by a dwarf soldier.\nKilled at Level 12 by Xin Aemaz.\nKilled at Level 10 by Darth Winged Archangel and Necro Green.\nKilled at Level 10 by Beto-fire, Walazka and Necro Green.\nKilled at Level 10 by Beto-fire and Esther Roxy.\nKilled at Level 10 by Beto-fire and Darth Winged Archangel.\nKilled at Level 10 by Otto patamar garoto.\n\n"
     ]
    }
   ],
   "source": [
    "import sys\n",
    "sys.path.append('../src')\n",
    "\n",
    "from charInfo import get_player_info_table, parse_char_stats, display_player_info\n",
    "\n",
    "playerName = \"Cleitinho Tacaesside\"\n",
    "playerInfo = get_player_info_table(playerName)\n",
    "player = parse_char_stats(playerInfo)\n",
    "display_player_info(player)\n"
   ]
  },
  {
   "cell_type": "code",
   "execution_count": null,
   "metadata": {},
   "outputs": [],
   "source": []
  }
 ]
}